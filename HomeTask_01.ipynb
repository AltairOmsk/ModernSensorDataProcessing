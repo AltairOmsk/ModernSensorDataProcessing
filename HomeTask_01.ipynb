{
 "cells": [
  {
   "cell_type": "markdown",
   "metadata": {},
   "source": [
    "# Лабораторная работа №1"
   ]
  },
  {
   "cell_type": "markdown",
   "metadata": {},
   "source": [
    "## Задание №1\n",
    "Имеется следующая выборка наблюдений некоторого случайного эксперимента: 428, 300, 250, 578, 492, 204, 245, 420, 760, 363, 600, 483, 711, 265, 572, 350, 652, 460, 340, 670, 565, 750, 452. Каково среднее значение по этой выборке?"
   ]
  },
  {
   "cell_type": "code",
   "execution_count": 25,
   "metadata": {},
   "outputs": [
    {
     "name": "stdout",
     "output_type": "stream",
     "text": [
      "sum(arr) / len(arr) = 474.35\n",
      "np.mean(arr) = 474.35\n"
     ]
    }
   ],
   "source": [
    "from scipy import * \n",
    "import numpy as np\n",
    "import statistics as st\n",
    "\n",
    "arr = [428, 300, 250, 578, 492, 204, 245, 420, 760, 363, 600, 483, 711, 265, 572, 350, 652, 460, 340, 670, 565, 750, 452]\n",
    "\n",
    "\n",
    "\n",
    "#print('%.2f' % (0.5643234))\n",
    "\n",
    "\n",
    "print (\"sum(arr) / len(arr) = %.2f\" % (sum(arr) / len(arr)))\n",
    "\n",
    "print(\"np.mean(arr) = %.2f\" % np.mean(arr))\n",
    "\n",
    "\n"
   ]
  },
  {
   "cell_type": "markdown",
   "metadata": {},
   "source": [
    "## Задание №2\n",
    "Имеется следующая выборка наблюдений некоторого случайного эксперимента: 428, 300, 250, 578, 492, 204, 245, 420, 760, 363, 600, 483, 711, 265, 572, 350, 652, 460, 340, 670, 565, 750, 452. Какое из представленных в выборке значений является ее медианой?"
   ]
  },
  {
   "cell_type": "code",
   "execution_count": 22,
   "metadata": {},
   "outputs": [
    {
     "name": "stdout",
     "output_type": "stream",
     "text": [
      "np.median(arr) = 460.00\n"
     ]
    }
   ],
   "source": [
    "arr = [428, 300, 250, 578, 492, 204, 245, 420, 760, 363, 600, 483, 711, 265, 572, 350, 652, 460, 340, 670, 565, 750, 452]\n",
    "\n",
    "print(\"np.median(arr) = %.2f\" % np.median(arr))"
   ]
  },
  {
   "cell_type": "markdown",
   "metadata": {},
   "source": [
    "## Задание №3\n",
    "Имеется следующая выборка наблюдений некоторого случайного эксперимента: 428, 300, 250, 578, 492, 204, 245, 420, 760, 363, 600, 483, 711, 265, 572, 350, 652, 460, 340, 670, 565, 750, 452. Какова величина среднеквадратичного отклонения указанной ранее выборки?"
   ]
  },
  {
   "cell_type": "code",
   "execution_count": 32,
   "metadata": {},
   "outputs": [
    {
     "name": "stdout",
     "output_type": "stream",
     "text": [
      "np.std(arr)   = 165.51\n",
      "st.stdev(arr) = 169.23\n"
     ]
    }
   ],
   "source": [
    "arr = [428, 300, 250, 578, 492, 204, 245, 420, 760, 363, 600, 483, 711, 265, 572, 350, 652, 460, 340, 670, 565, 750, 452]\n",
    "\n",
    "print(\"np.std(arr)   = %.2f\" % np.std(arr))\n",
    "print(\"st.stdev(arr) = %.2f\" % st.stdev(arr))\n"
   ]
  },
  {
   "cell_type": "markdown",
   "metadata": {},
   "source": [
    "## Задание 4\n",
    "X = (428, 300, 250, 578, 492, 204, 245, 420, 760, 363, 600, 483, 711, 265, 572, 350, 652, 460, 340, 670, 565, 750, 452) и Y = (21, 33, 43, 71, 85, 17, 38, 43, 53, 76, 33, 16, 24, 59, 65, 73, 45, 63, 53, 43, 58, 28, 37). Найдите ковариацию cov(X,Y)."
   ]
  },
  {
   "cell_type": "code",
   "execution_count": 38,
   "metadata": {},
   "outputs": [
    {
     "name": "stdout",
     "output_type": "stream",
     "text": [
      "np.cov(X, Y, bias=True)[0][1] = -46.5047\n"
     ]
    }
   ],
   "source": [
    "X = [428, 300, 250, 578, 492, 204, 245, 420, 760, 363, 600, 483, 711, 265, 572, 350, 652, 460, 340, 670, 565, 750, 452]\n",
    "Y = [21, 33, 43, 71, 85, 17, 38, 43, 53, 76, 33, 16, 24, 59, 65, 73, 45, 63, 53, 43, 58, 28, 37]\n",
    "\n",
    "print('np.cov(X, Y, bias=True)[0][1] = %.4f' % np.cov(X, Y, bias=True)[0][1])\n"
   ]
  },
  {
   "cell_type": "markdown",
   "metadata": {},
   "source": [
    "## Задание №5\n",
    "Даны две выборки одинаковой длины: X = (428, 300, 250, 578, 492, 204, 245, 420, 760, 363, 600, 483, 711, 265, 572, 350, 652, 460, 340, 670, 565, 750, 452) и Y = (21, 33, 43, 71, 85, 17, 38, 43, 53, 76, 33, 16, 24, 59, 65, 73, 45, 63, 53, 43, 58, 28, 37). Найти коэффициент Пирсона."
   ]
  },
  {
   "cell_type": "code",
   "execution_count": 40,
   "metadata": {},
   "outputs": [
    {
     "name": "stdout",
     "output_type": "stream",
     "text": [
      "np.corrcoef(X, Y)[0, 1] = -0.0146\n"
     ]
    }
   ],
   "source": [
    "X = [428, 300, 250, 578, 492, 204, 245, 420, 760, 363, 600, 483, 711, 265, 572, 350, 652, 460, 340, 670, 565, 750, 452]\n",
    "Y = [21, 33, 43, 71, 85, 17, 38, 43, 53, 76, 33, 16, 24, 59, 65, 73, 45, 63, 53, 43, 58, 28, 37]\n",
    "\n",
    "print ('np.corrcoef(X, Y)[0, 1] = %.4f' % np.corrcoef(X, Y)[0, 1])"
   ]
  }
 ],
 "metadata": {
  "kernelspec": {
   "display_name": "Python 3",
   "language": "python",
   "name": "python3"
  },
  "language_info": {
   "codemirror_mode": {
    "name": "ipython",
    "version": 3
   },
   "file_extension": ".py",
   "mimetype": "text/x-python",
   "name": "python",
   "nbconvert_exporter": "python",
   "pygments_lexer": "ipython3",
   "version": "3.7.2"
  }
 },
 "nbformat": 4,
 "nbformat_minor": 2
}
